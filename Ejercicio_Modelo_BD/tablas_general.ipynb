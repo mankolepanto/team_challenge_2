{
 "cells": [
  {
   "cell_type": "code",
   "execution_count": 5,
   "metadata": {},
   "outputs": [],
   "source": [
    "import sqlite3\n",
    "import pandas as pd"
   ]
  },
  {
   "cell_type": "code",
   "execution_count": 8,
   "metadata": {},
   "outputs": [
    {
     "ename": "ProgrammingError",
     "evalue": "Cannot operate on a closed database.",
     "output_type": "error",
     "traceback": [
      "\u001b[1;31m---------------------------------------------------------------------------\u001b[0m",
      "\u001b[1;31mProgrammingError\u001b[0m                          Traceback (most recent call last)",
      "Cell \u001b[1;32mIn[8], line 2\u001b[0m\n\u001b[0;32m      1\u001b[0m conn\u001b[38;5;241m.\u001b[39mclose()\n\u001b[1;32m----> 2\u001b[0m cursor\u001b[38;5;241m.\u001b[39mclose()\n",
      "\u001b[1;31mProgrammingError\u001b[0m: Cannot operate on a closed database."
     ]
    }
   ],
   "source": [
    "conn.close()\n",
    "cursor.close()"
   ]
  },
  {
   "cell_type": "code",
   "execution_count": 10,
   "metadata": {},
   "outputs": [],
   "source": [
    "conn = sqlite3.connect('mi_base_de_datos.sqlite')\n",
    "\n",
    "cursor = conn.cursor()"
   ]
  },
  {
   "cell_type": "code",
   "execution_count": 11,
   "metadata": {},
   "outputs": [
    {
     "ename": "OperationalError",
     "evalue": "database is locked",
     "output_type": "error",
     "traceback": [
      "\u001b[1;31m---------------------------------------------------------------------------\u001b[0m",
      "\u001b[1;31mOperationalError\u001b[0m                          Traceback (most recent call last)",
      "Cell \u001b[1;32mIn[11], line 13\u001b[0m\n\u001b[0;32m      1\u001b[0m cursor\u001b[38;5;241m.\u001b[39mexecute(\u001b[38;5;124m'''\u001b[39m\u001b[38;5;124mCREATE TABLE IF NOT EXISTS Parque_atracciones (\u001b[39m\n\u001b[0;32m      2\u001b[0m \u001b[38;5;124m                    Nombre TEXT,\u001b[39m\n\u001b[0;32m      3\u001b[0m \u001b[38;5;124m                    Direccion TEXT,\u001b[39m\n\u001b[1;32m   (...)\u001b[0m\n\u001b[0;32m      7\u001b[0m \u001b[38;5;124m                    Codigo TEXT PRIMARY KEY\u001b[39m\n\u001b[0;32m      8\u001b[0m \u001b[38;5;124m                )\u001b[39m\u001b[38;5;124m'''\u001b[39m)\n\u001b[0;32m     11\u001b[0m \u001b[38;5;66;03m# Crear la tabla Atracciones\u001b[39;00m\n\u001b[0;32m     12\u001b[0m \u001b[38;5;66;03m# Eliminar la tabla existente si existe\u001b[39;00m\n\u001b[1;32m---> 13\u001b[0m cursor\u001b[38;5;241m.\u001b[39mexecute(\u001b[38;5;124m'''\u001b[39m\u001b[38;5;124mDROP TABLE IF EXISTS Atracciones\u001b[39m\u001b[38;5;124m'''\u001b[39m)\n\u001b[0;32m     15\u001b[0m cursor\u001b[38;5;241m.\u001b[39mexecute(\u001b[38;5;124m'''\u001b[39m\u001b[38;5;124mCREATE TABLE IF NOT EXISTS Atracciones (\u001b[39m\n\u001b[0;32m     16\u001b[0m \u001b[38;5;124m                    Nombre TEXT,\u001b[39m\n\u001b[0;32m     17\u001b[0m \u001b[38;5;124m                    Tipo TEXT,\u001b[39m\n\u001b[1;32m   (...)\u001b[0m\n\u001b[0;32m     24\u001b[0m \u001b[38;5;124m                    codigo_zona INTEGER                    \u001b[39m\n\u001b[0;32m     25\u001b[0m \u001b[38;5;124m                \u001b[39m\u001b[38;5;124m'''\u001b[39m)\n\u001b[0;32m     29\u001b[0m cursor\u001b[38;5;241m.\u001b[39mexecute(\u001b[38;5;124m'''\u001b[39m\u001b[38;5;124mCREATE TABLE IF NOT EXISTS Zonas (\u001b[39m\n\u001b[0;32m     30\u001b[0m \u001b[38;5;124m                    Codigo_Zona TEXT PRIMARY KEY,\u001b[39m\n\u001b[0;32m     31\u001b[0m \u001b[38;5;124m                    Ambientacion TEXT,\u001b[39m\n\u001b[1;32m   (...)\u001b[0m\n\u001b[0;32m     36\u001b[0m \u001b[38;5;124m                    Afluencia_Media INTEGER\u001b[39m\n\u001b[0;32m     37\u001b[0m \u001b[38;5;124m                )\u001b[39m\u001b[38;5;124m'''\u001b[39m)\n",
      "\u001b[1;31mOperationalError\u001b[0m: database is locked"
     ]
    }
   ],
   "source": [
    "\n",
    "\n",
    "cursor.execute('''CREATE TABLE IF NOT EXISTS Parque_atracciones (\n",
    "                    Nombre TEXT,\n",
    "                    Direccion TEXT,\n",
    "                    Ciudad TEXT,\n",
    "                    Provincia TEXT,\n",
    "                    Aforo INTEGER,\n",
    "                    Codigo TEXT PRIMARY KEY\n",
    "                )''')\n",
    "\n",
    "\n",
    "# Crear la tabla Atracciones\n",
    "# Eliminar la tabla existente si existe\n",
    "cursor.execute('''DROP TABLE IF EXISTS Atracciones''')\n",
    "\n",
    "cursor.execute('''CREATE TABLE IF NOT EXISTS Atracciones (\n",
    "                    Nombre TEXT,\n",
    "                    Tipo TEXT,\n",
    "                    Categoria_edad INTEGER,\n",
    "                    Longitud_Atraccion REAL,\n",
    "                    Altura_Minima FLOAT,\n",
    "                    Descripcion TEXT,  \n",
    "                    codigo_atraccion TEXT,\n",
    "                    codigo_parque INTEGER)\n",
    "                    codigo_zona INTEGER                    \n",
    "                ''')\n",
    "\n",
    "\n",
    "\n",
    "cursor.execute('''CREATE TABLE IF NOT EXISTS Zonas (\n",
    "                    Codigo_Zona TEXT PRIMARY KEY,\n",
    "                    Ambientacion TEXT,\n",
    "                    Platos_Tipicos TEXT,\n",
    "                    Espectaculos TEXT,\n",
    "                    Descripcion\n",
    "                    Horario TEXT,\n",
    "                    Afluencia_Media INTEGER\n",
    "                )''')\n",
    "\n",
    "\n",
    "cursor.execute('''CREATE TABLE IF NOT EXISTS Alojamiento (\n",
    "                    Nombre TEXT,\n",
    "                    Precio REAL,\n",
    "                    Categoria TEXT,\n",
    "                    Servicios TEXT,\n",
    "                    Ambientacion TEXT\n",
    "                )''')\n",
    "\n",
    "# Guardar los cambios y cerrar la conexión\n",
    "#conn.commit()\n",
    "#conn.close()\n",
    "#cursor.close()\n"
   ]
  }
 ],
 "metadata": {
  "kernelspec": {
   "display_name": "base",
   "language": "python",
   "name": "python3"
  },
  "language_info": {
   "codemirror_mode": {
    "name": "ipython",
    "version": 3
   },
   "file_extension": ".py",
   "mimetype": "text/x-python",
   "name": "python",
   "nbconvert_exporter": "python",
   "pygments_lexer": "ipython3",
   "version": "3.11.5"
  }
 },
 "nbformat": 4,
 "nbformat_minor": 2
}
