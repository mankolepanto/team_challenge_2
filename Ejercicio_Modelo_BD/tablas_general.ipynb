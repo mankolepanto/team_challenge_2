{
 "cells": [
  {
   "cell_type": "code",
   "execution_count": null,
   "metadata": {},
   "outputs": [],
   "source": [
    "import sqlite3\n",
    "import pandas as pd"
   ]
  },
  {
   "cell_type": "code",
   "execution_count": null,
   "metadata": {},
   "outputs": [],
   "source": [
    "conn = sqlite3.connect('mi_base_de_datos.sqlite')\n",
    "\n",
    "cursor = conn.cursor()"
   ]
  },
  {
   "cell_type": "code",
   "execution_count": null,
   "metadata": {},
   "outputs": [],
   "source": [
    "\n",
    "\n",
    "\n",
    "\n",
    "cursor.execute('''CREATE TABLE IF NOT EXISTS Parque_atracciones (\n",
    "                    Nombre TEXT,\n",
    "                    Direccion TEXT,\n",
    "                    Ciudad TEXT,\n",
    "                    Provincia TEXT,\n",
    "                    Aforo INTEGER,\n",
    "                    Codigo TEXT PRIMARY KEY\n",
    "                )''')\n",
    "\n",
    "\n",
    "# Crear la tabla Atracciones\n",
    "# Eliminar la tabla existente si existe\n",
    "cursor.execute('''DROP TABLE IF EXISTS Atracciones''')\n",
    "\n",
    "cursor.execute('''CREATE TABLE IF NOT EXISTS Atracciones (\n",
    "                    Nombre TEXT,\n",
    "                    Tipo TEXT,\n",
    "                    Duracion INT,\n",
    "                    Categoria_edad TEXT,\n",
    "                    Longitud_Atraccion REAL,\n",
    "                    Altura_Minima INTEGER,\n",
    "                    Descripcion TEXT,  \n",
    "                    codigo_atraccion TEXT,\n",
    "                    codigo_parque TEXT)\n",
    "                                        \n",
    "                ''')\n",
    "\n",
    "\n",
    "\n",
    "cursor.execute('''CREATE TABLE IF NOT EXISTS Zonas (\n",
    "                    Codigo_Zona TEXT PRIMARY KEY,\n",
    "                    Ambientacion TEXT,\n",
    "                    Platos_Tipicos TEXT,\n",
    "                    Espectaculos TEXT,\n",
    "                    Descripcion\n",
    "                    Horario TEXT,\n",
    "                    Afluencia_Media INTEGER\n",
    "                )''')\n",
    "\n",
    "\n",
    "cursor.execute('''CREATE TABLE IF NOT EXISTS Alojamiento (\n",
    "                    Nombre TEXT,\n",
    "                    Precio REAL,\n",
    "                    Categoria TEXT,\n",
    "                    Servicios TEXT,\n",
    "                    Ambientacion TEXT\n",
    "                )''')\n",
    "\n",
    "# Guardar los cambios y cerrar la conexión\n",
    "#conn.commit()\n",
    "#conn.close()\n",
    "#cursor.close()\n"
   ]
  }
 ],
 "metadata": {
  "language_info": {
   "name": "python"
  }
 },
 "nbformat": 4,
 "nbformat_minor": 2
}
