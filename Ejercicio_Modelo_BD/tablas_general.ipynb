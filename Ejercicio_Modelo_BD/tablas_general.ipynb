{
 "cells": [
  {
   "cell_type": "code",
   "execution_count": 2,
   "metadata": {},
   "outputs": [],
   "source": [
    "import sqlite3\n",
    "import pandas as pd"
   ]
  },
  {
   "cell_type": "code",
   "execution_count": 3,
   "metadata": {},
   "outputs": [],
   "source": [
    "conn = sqlite3.connect('mi_base_de_datos.sqlite')\n",
    "\n",
    "cursor = conn.cursor()"
   ]
  },
  {
   "cell_type": "code",
   "execution_count": 12,
   "metadata": {},
   "outputs": [
    {
     "data": {
      "text/plain": [
       "<sqlite3.Cursor at 0x2348aab1d40>"
      ]
     },
     "execution_count": 12,
     "metadata": {},
     "output_type": "execute_result"
    }
   ],
   "source": [
    "\n",
    "\n",
    "cursor.execute('''CREATE TABLE IF NOT EXISTS Parque_atracciones (\n",
    "                    Nombre TEXT,\n",
    "                    Direccion TEXT,\n",
    "                    Ciudad TEXT,\n",
    "                    Provincia TEXT,\n",
    "                    Aforo INTEGER,\n",
    "                    Codigo TEXT PRIMARY KEY\n",
    "                )''')\n",
    "\n",
    "\n",
    "# Crear la tabla Atracciones\n",
    "# Eliminar la tabla existente si existe\n",
    "cursor.execute('''DROP TABLE IF EXISTS Atracciones''')\n",
    "\n",
    "cursor.execute('''CREATE TABLE IF NOT EXISTS Atracciones (\n",
    "                    Nombre TEXT,\n",
    "                    Tipo TEXT,\n",
    "                    Categoria_edad INTEGER,\n",
    "                    Longitud_Atraccion REAL,\n",
    "                    Altura_Minima FLOAT,\n",
    "                    Descripcion TEXT,  \n",
    "                    codigo_atraccion TEXT,\n",
    "                    codigo_parque INTEGER,\n",
    "                    codigo_zona INTEGER )               \n",
    "                ''')\n",
    "\n",
    "cursor.execute('''DROP TABLE IF EXISTS Zonas''')\n",
    "\n",
    "\n",
    "cursor.execute('''CREATE TABLE IF NOT EXISTS Zonas (\n",
    "                    Codigo_Zona TEXT PRIMARY KEY,\n",
    "                    Ambientacion TEXT,\n",
    "                    Platos_Tipicos TEXT,\n",
    "                    Espectaculos TEXT,\n",
    "                    Descripcion,\n",
    "                    Horario TEXT,\n",
    "                    Afluencia_Media INTEGER\n",
    "                )''')\n",
    "\n",
    "# Codigo_Zona\tAmbientacion\tPlatos_Tipicos\tEspectaculos\tHorario\t Afluencia_Media\n",
    "\n",
    "\n",
    "cursor.execute('''CREATE TABLE IF NOT EXISTS Alojamiento (\n",
    "                    Nombre TEXT,\n",
    "                    Precio REAL,\n",
    "                    Categoria TEXT,\n",
    "                    Servicios TEXT,\n",
    "                    Ambientacion TEXT\n",
    "                )''')\n",
    "\n",
    "# Guardar los cambios y cerrar la conexión\n",
    "#conn.commit()\n",
    "#conn.close()\n",
    "#cursor.close()\n"
   ]
  },
  {
   "cell_type": "code",
   "execution_count": 17,
   "metadata": {},
   "outputs": [
    {
     "data": {
      "text/html": [
       "<div>\n",
       "<style scoped>\n",
       "    .dataframe tbody tr th:only-of-type {\n",
       "        vertical-align: middle;\n",
       "    }\n",
       "\n",
       "    .dataframe tbody tr th {\n",
       "        vertical-align: top;\n",
       "    }\n",
       "\n",
       "    .dataframe thead th {\n",
       "        text-align: right;\n",
       "    }\n",
       "</style>\n",
       "<table border=\"1\" class=\"dataframe\">\n",
       "  <thead>\n",
       "    <tr style=\"text-align: right;\">\n",
       "      <th></th>\n",
       "      <th>Codigo_Zona</th>\n",
       "      <th>Ambientacion</th>\n",
       "      <th>Platos_Tipicos</th>\n",
       "      <th>Espectaculos</th>\n",
       "      <th>Descripcion</th>\n",
       "      <th>Horario</th>\n",
       "      <th>Afluencia_Media</th>\n",
       "    </tr>\n",
       "  </thead>\n",
       "  <tbody>\n",
       "    <tr>\n",
       "      <th>0</th>\n",
       "      <td>031</td>\n",
       "      <td>Egipcia</td>\n",
       "      <td>Platos_Tipicos</td>\n",
       "      <td>El sueño de Egipto</td>\n",
       "      <td>La vida de la joven Samira está a punto de cam...</td>\n",
       "      <td>22</td>\n",
       "      <td>Afluencia_Media</td>\n",
       "    </tr>\n",
       "    <tr>\n",
       "      <th>1</th>\n",
       "      <td>032</td>\n",
       "      <td>Romano</td>\n",
       "      <td>Platos_Tipicos</td>\n",
       "      <td>Espartaco, honor y coraje</td>\n",
       "      <td>¿Quieres descubrir el origen del mito que hizo...</td>\n",
       "      <td>35</td>\n",
       "      <td>Afluencia_Media</td>\n",
       "    </tr>\n",
       "    <tr>\n",
       "      <th>2</th>\n",
       "      <td>033</td>\n",
       "      <td>Las islas</td>\n",
       "      <td>Platos_Tipicos</td>\n",
       "      <td>El caballo español</td>\n",
       "      <td>La pasión del elenco de bailaoras y la belleza...</td>\n",
       "      <td>8</td>\n",
       "      <td>Afluencia_Media</td>\n",
       "    </tr>\n",
       "    <tr>\n",
       "      <th>3</th>\n",
       "      <td>034</td>\n",
       "      <td>Ibera</td>\n",
       "      <td>Platos_Tipicos</td>\n",
       "      <td>Mitic dance</td>\n",
       "      <td>La canción que nunca pasa de moda cantada y ba...</td>\n",
       "      <td>10</td>\n",
       "      <td>Afluencia_Media</td>\n",
       "    </tr>\n",
       "    <tr>\n",
       "      <th>4</th>\n",
       "      <td>035</td>\n",
       "      <td>Griega</td>\n",
       "      <td>Platos_Tipicos</td>\n",
       "      <td>La magia de los dioses</td>\n",
       "      <td>El gran Zeus ha perdido su fuerza después de q...</td>\n",
       "      <td>20</td>\n",
       "      <td>Afluencia_Media</td>\n",
       "    </tr>\n",
       "  </tbody>\n",
       "</table>\n",
       "</div>"
      ],
      "text/plain": [
       "  Codigo_Zona Ambientacion  Platos_Tipicos               Espectaculos  \\\n",
       "0         031      Egipcia  Platos_Tipicos         El sueño de Egipto   \n",
       "1         032       Romano  Platos_Tipicos  Espartaco, honor y coraje   \n",
       "2         033    Las islas  Platos_Tipicos         El caballo español   \n",
       "3         034        Ibera  Platos_Tipicos                Mitic dance   \n",
       "4         035       Griega  Platos_Tipicos     La magia de los dioses   \n",
       "\n",
       "                                         Descripcion Horario  Afluencia_Media  \n",
       "0  La vida de la joven Samira está a punto de cam...      22  Afluencia_Media  \n",
       "1  ¿Quieres descubrir el origen del mito que hizo...      35  Afluencia_Media  \n",
       "2  La pasión del elenco de bailaoras y la belleza...       8  Afluencia_Media  \n",
       "3  La canción que nunca pasa de moda cantada y ba...      10  Afluencia_Media  \n",
       "4  El gran Zeus ha perdido su fuerza después de q...      20  Afluencia_Media  "
      ]
     },
     "execution_count": 17,
     "metadata": {},
     "output_type": "execute_result"
    }
   ],
   "source": [
    "conn.commit()\n",
    "df = pd.read_sql_query('SELECT * FROM zonas ', conn)\n",
    "df"
   ]
  },
  {
   "cell_type": "code",
   "execution_count": null,
   "metadata": {},
   "outputs": [],
   "source": []
  }
 ],
 "metadata": {
  "kernelspec": {
   "display_name": "base",
   "language": "python",
   "name": "python3"
  },
  "language_info": {
   "codemirror_mode": {
    "name": "ipython",
    "version": 3
   },
   "file_extension": ".py",
   "mimetype": "text/x-python",
   "name": "python",
   "nbconvert_exporter": "python",
   "pygments_lexer": "ipython3",
   "version": "3.10.11"
  }
 },
 "nbformat": 4,
 "nbformat_minor": 2
}
