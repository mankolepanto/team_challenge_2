{
 "cells": [
  {
   "cell_type": "code",
   "execution_count": 1,
   "metadata": {},
   "outputs": [],
   "source": [
    "import sqlite3\n",
    "import pandas as pd"
   ]
  },
  {
   "cell_type": "code",
   "execution_count": 6,
   "metadata": {},
   "outputs": [
    {
     "data": {
      "text/plain": [
       "<sqlite3.Cursor at 0x2272dbf26c0>"
      ]
     },
     "execution_count": 6,
     "metadata": {},
     "output_type": "execute_result"
    }
   ],
   "source": [
    "\n",
    "conn = sqlite3.connect('mi_base_de_datos.sqlite')\n",
    "\n",
    "cursor = conn.cursor()\n",
    "\n",
    "\n",
    "cursor.execute('''CREATE TABLE IF NOT EXISTS Parque_atracciones (\n",
    "                    Nombre TEXT,\n",
    "                    Direccion TEXT,\n",
    "                    Ciudad TEXT,\n",
    "                    Provincia TEXT,\n",
    "                    Aforo INTEGER,\n",
    "                    Codigo TEXT PRIMARY KEY\n",
    "                )''')\n",
    "\n",
    "\n",
    "cursor.execute('''INSERT OR IGNORE INTO Parque_atracciones \n",
    "                  VALUES ('Port Aventura', 'Calle', 'Salou', 'Tarragona', 51000, '01')''')\n",
    "\n",
    "# Crear la tabla Atracciones\n",
    "cursor.execute('''CREATE TABLE IF NOT EXISTS Atracciones (\n",
    "                    Nombre TEXT,\n",
    "                    Tipo TEXT,\n",
    "                    Duracion INTEGER,\n",
    "                    Categoria_edad TEXT,\n",
    "                    Longitud_Atraccion REAL,\n",
    "                    Altura_Minima INTEGER,\n",
    "                    codigo_atraccion TEXT PRIMARY KEY,\n",
    "                    codigo_parque TEXT,\n",
    "                    FOREIGN KEY (codigo_parque) REFERENCES Parque_atracciones(Codigo)\n",
    "                )''')\n",
    "\n",
    "\n",
    "cursor.execute('''CREATE TABLE IF NOT EXISTS Zonas (\n",
    "                    Codigo_Zona TEXT PRIMARY KEY,\n",
    "                    Ambientacion TEXT,\n",
    "                    Platos_Tipicos TEXT,\n",
    "                    Espectaculos TEXT,\n",
    "                    Horario TEXT,\n",
    "                    Afluencia_Media INTEGER\n",
    "                )''')\n",
    "\n",
    "\n",
    "cursor.execute('''CREATE TABLE IF NOT EXISTS Alojamiento (\n",
    "                    Nombre TEXT,\n",
    "                    Precio REAL,\n",
    "                    Categoria TEXT,\n",
    "                    Servicios TEXT,\n",
    "                    Ambientacion TEXT\n",
    "                )''')\n",
    "\n",
    "# Guardar los cambios y cerrar la conexión\n",
    "#conn.commit()\n",
    "#conn.close()\n",
    "#cursor.close()\n"
   ]
  },
  {
   "cell_type": "code",
   "execution_count": 3,
   "metadata": {},
   "outputs": [],
   "source": [
    "cursor.execute('''INSERT OR IGNORE INTO Parque_atracciones \n",
    "                  VALUES ('Port Aventura', 'Calle', 'Salou', 'Tarragona', 51000, '01')''')\n",
    "cursor.execute('''INSERT OR IGNORE INTO Parque_atracciones \n",
    "                  VALUES ('parque2', 'Calle2', 'caspe', 'zaragoza', 5112312, '12312')''')\n",
    "\n",
    "conn.commit()"
   ]
  },
  {
   "cell_type": "code",
   "execution_count": 7,
   "metadata": {},
   "outputs": [
    {
     "name": "stdout",
     "output_type": "stream",
     "text": [
      "          Nombre Direccion Ciudad  Provincia    Aforo Codigo\n",
      "0  Port Aventura     Calle  Salou  Tarragona    51000     01\n",
      "1        parque2    Calle2  caspe   zaragoza  5112312  12312\n"
     ]
    }
   ],
   "source": [
    "\n",
    "df = pd.read_sql_query('SELECT * FROM Parque_atracciones', conn)\n",
    "\n",
    "print(df)"
   ]
  },
  {
   "cell_type": "code",
   "execution_count": 5,
   "metadata": {},
   "outputs": [],
   "source": [
    "conn.close()"
   ]
  },
  {
   "cell_type": "code",
   "execution_count": null,
   "metadata": {},
   "outputs": [],
   "source": []
  }
 ],
 "metadata": {
  "kernelspec": {
   "display_name": "Python 3",
   "language": "python",
   "name": "python3"
  },
  "language_info": {
   "codemirror_mode": {
    "name": "ipython",
    "version": 3
   },
   "file_extension": ".py",
   "mimetype": "text/x-python",
   "name": "python",
   "nbconvert_exporter": "python",
   "pygments_lexer": "ipython3",
   "version": "3.10.11"
  }
 },
 "nbformat": 4,
 "nbformat_minor": 2
}
