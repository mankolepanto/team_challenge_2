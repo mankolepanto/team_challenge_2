{
 "cells": [
  {
   "cell_type": "code",
   "execution_count": 15,
   "metadata": {},
   "outputs": [],
   "source": [
    "import sqlite3\n",
    "import pandas as pd"
   ]
  },
  {
   "cell_type": "code",
   "execution_count": 16,
   "metadata": {},
   "outputs": [],
   "source": [
    "conn = sqlite3.connect('mi_base_de_datos.sqlite')\n",
    "\n",
    "cursor = conn.cursor()"
   ]
  },
  {
   "cell_type": "code",
   "execution_count": 17,
   "metadata": {},
   "outputs": [
    {
     "data": {
      "text/plain": [
       "<sqlite3.Cursor at 0x280268d7040>"
      ]
     },
     "execution_count": 17,
     "metadata": {},
     "output_type": "execute_result"
    }
   ],
   "source": [
    "# PARQUE WARNER\n",
    "cursor.execute('''INSERT OR IGNORE INTO Parque_atracciones \n",
    "                  VALUES ('Warner', 'Partida del Moralet, s/n' , 'Benidorm', 'Alicante', 33000, '02')''')"
   ]
  },
  {
   "cell_type": "code",
   "execution_count": 18,
   "metadata": {},
   "outputs": [
    {
     "data": {
      "text/plain": [
       "<sqlite3.Cursor at 0x280268d7040>"
      ]
     },
     "execution_count": 18,
     "metadata": {},
     "output_type": "execute_result"
    }
   ],
   "source": [
    "# Atracciones\n",
    "\n",
    "cursor.execute('''INSERT OR IGNORE INTO Atracciones \n",
    "                    VALUES ('Rápidos ACME',\n",
    "                    'Adolescentes y Adultos',\n",
    "                    16,\n",
    "                    110,\n",
    "                    'Los Rápidos ACME son, sencillamente, ¡desternillantes! Forman una increíble atracción acuática ubicada en Cartoon Village, el lugar perfecto para tener la sensación de estar viviendo dentro de un capítulo de los alocados y traviesos Looney Tunes.',\n",
    "                    'B9',\n",
    "                    '02', \n",
    "                    '029')''')\n",
    "\n",
    "\n",
    "cursor.execute('''INSERT OR IGNORE INTO Atracciones \n",
    "                    VALUES ('Cataratas Salvajes',\n",
    "                    'Adolescentes y Adultos',\n",
    "                    16,\n",
    "                    110,\n",
    "                    'Siéntate en la primera fila (o en la última) y empápate de agua, la caída de esta atracción se produce a una gran altura, y el oleaje que provoca es simplemente espectacular.',\n",
    "                    'B8',\n",
    "                    '02', \n",
    "                    '028')''')\n",
    "\n",
    "cursor.execute('''INSERT OR IGNORE INTO Atracciones \n",
    "                    VALUES ('Río Bravo',\n",
    "                    'Todos los públicos',\n",
    "                    6,\n",
    "                    100,\n",
    "                    'Río Bravo es un western que el gran Howard Hawks dirigió en 1959, con John Wayne como protagonista. Y es -también-, una de las atracciones acuáticas ineludibles de Old West Territory, en Parque Warner.',\n",
    "                    'B7',\n",
    "                    '02', \n",
    "                    '027')''')\n",
    "\n",
    "cursor.execute('''INSERT OR IGNORE INTO Atracciones \n",
    "                    VALUES ('Correcaminos Bip Bip',\n",
    "                    'Niños y Familias',\n",
    "                    9,\n",
    "                    100,\n",
    "                    'Sube con tus pequeños e intenta así ayudar al incansable Wile E. Coyote en su interminable carrera para alcanzar al escurridizo Correcaminos. El velocísimo pájaro corre desenfrenadamente por el desierto de Parque Warner: ven y persíguelo con tu familia.',\n",
    "                    'B6',\n",
    "                    '02', \n",
    "                    '026')''')\n",
    "\n",
    "cursor.execute('''INSERT OR IGNORE INTO Atracciones \n",
    "                    VALUES ('Coaster Express',\n",
    "                    'Adolescentes y Adultos',\n",
    "                    16,\n",
    "                    121,\n",
    "                    'Valles y cañones conforman el trazado desértico de Coaster-Express, la ‘roller coaster’ tradicional que podemos encontrar en Parque Warner Madrid.',\n",
    "                    'B5',\n",
    "                    '02', \n",
    "                    '025')''')\n",
    "\n",
    "cursor.execute('''INSERT OR IGNORE INTO Atracciones \n",
    "                    VALUES ('Superman Atracción de Acero',\n",
    "                    'Adolescentes y Adultos',\n",
    "                    16,\n",
    "                    132,\n",
    "                    'Esta atracción de Parque Warner recrea la ciudad de Metrópolis, así como la entrada del famoso periódico de la urbe, el Daily Planet.',\n",
    "                    'B4',\n",
    "                    '02', \n",
    "                    '024')''')\n",
    "\n",
    "cursor.execute('''INSERT OR IGNORE INTO Atracciones \n",
    "                    VALUES ('Batman Gotham City',\n",
    "                    'Adolescentes y Adultos',\n",
    "                    16,\n",
    "                    130,\n",
    "                    'La única manera de escapar de la ciudad es a través de esta montaña rusa multilaunch, única en Europa.',\n",
    "                    'B3',\n",
    "                    '02', \n",
    "                    '023')''')\n",
    "\n",
    "cursor.execute('''INSERT OR IGNORE INTO Atracciones \n",
    "                    VALUES ('Lindo Gatito',\n",
    "                    'Familiar',\n",
    "                    6,\n",
    "                    110,\n",
    "                    '¿Te ha parecido ver a un lindo gatito? Monta entonces en esta atracción mecánica, pensada para los visitantes pequeños, para que experimenten el gusanillo de volar al tiempo que persiguen al canario más popular de la factoría Warner.',\n",
    "                    'B2',\n",
    "                    '02', \n",
    "                    '022')''') \n",
    "\n",
    "cursor.execute('''INSERT OR IGNORE INTO Atracciones \n",
    "                    VALUES ('Coyote Explosivo',\n",
    "                    'Familiar',\n",
    "                    9,\n",
    "                    0.92,\n",
    "                    'Wile E. Coyote, inasequible al desaliento, anda detrás del Correcaminos, \n",
    "                    y en esta ocasión ha puesto en marcha un último invento sobre el que ha depositado sus esperanzas',\n",
    "                    'B1',\n",
    "                    '02', \n",
    "                    '021')''') "
   ]
  },
  {
   "cell_type": "code",
   "execution_count": null,
   "metadata": {},
   "outputs": [],
   "source": []
  },
  {
   "cell_type": "code",
   "execution_count": 19,
   "metadata": {},
   "outputs": [
    {
     "data": {
      "text/plain": [
       "<sqlite3.Cursor at 0x280268d7040>"
      ]
     },
     "execution_count": 19,
     "metadata": {},
     "output_type": "execute_result"
    }
   ],
   "source": [
    "cursor.execute('''INSERT OR IGNORE INTO Zonas \n",
    "                   VALUES ('023',\n",
    "                    \"Batman Gotham City Escape\",\n",
    "                    \"La Casa de Batman\",\n",
    "                    \"te sentirás el protagonista de tu película favorita. Seas héroe o villano, descubre todas las atracciones\",\n",
    "                    \"12:00\")''')\n",
    "\n",
    "cursor.execute('''INSERT OR IGNORE INTO Zonas \n",
    "                   VALUES ('021',\n",
    "                    \"Correcaminos\",\n",
    "                    \"Un campo lleno de trampas a evitar\",\n",
    "                    \"Descubre los mejores lugares para correr del coyote\",\n",
    "                    \"10:00\")''')\n",
    "\n",
    "cursor.execute('''INSERT OR IGNORE INTO Zonas \n",
    "                   VALUES ('025',\n",
    "                    \"Old West Territory\",\n",
    "                    \"Lugares del Viejo Oeste\",\n",
    "                    \"Atrevete a ser un Vaquero montado en el caballo más veloz escapando de los apaches\",\n",
    "                    \"10:00\")''')\n",
    "\n"
   ]
  },
  {
   "cell_type": "code",
   "execution_count": 20,
   "metadata": {},
   "outputs": [
    {
     "data": {
      "text/plain": [
       "<sqlite3.Cursor at 0x280268d7040>"
      ]
     },
     "execution_count": 20,
     "metadata": {},
     "output_type": "execute_result"
    }
   ],
   "source": [
    "cursor.execute('''INSERT OR IGNORE INTO Alojamiento \n",
    "                   VALUES (\"Hotel NH Hotel Group\",\n",
    "                    75,\n",
    "                    \"4 estrellas\",\n",
    "                    \"125 Habitaciones para familias\",\n",
    "                    \"Hotel Moderno\",\n",
    "                    \"02\")''')\n",
    "\n",
    "cursor.execute('''INSERT OR IGNORE INTO Alojamiento \n",
    "                   VALUES (\"Hotel Looney Tunes\",\n",
    "                    55,\n",
    "                    \"3 estrellas\",\n",
    "                    \"100 Habitaciones para todos los públicos\",\n",
    "                    \"Hotel ambientado con los personajes mas característicos del mundo Warner\",\n",
    "                    \"02\")''')\n",
    "\n",
    "cursor.execute('''INSERT OR IGNORE INTO Alojamiento \n",
    "                   VALUES (\"Hotel Gotham\",\n",
    "                    120,\n",
    "                    \"5 estrellas\",\n",
    "                    \"50 Habitaciones\",\n",
    "                    \"Hotel ambientado en la casa de Bruce Wayne\",\n",
    "                    \"02\")''')"
   ]
  },
  {
   "cell_type": "code",
   "execution_count": 21,
   "metadata": {},
   "outputs": [],
   "source": [
    "conn.commit()\n",
    "conn.close()\n"
   ]
  }
 ],
 "metadata": {
  "kernelspec": {
   "display_name": "Python 3",
   "language": "python",
   "name": "python3"
  },
  "language_info": {
   "codemirror_mode": {
    "name": "ipython",
    "version": 3
   },
   "file_extension": ".py",
   "mimetype": "text/x-python",
   "name": "python",
   "nbconvert_exporter": "python",
   "pygments_lexer": "ipython3",
   "version": "3.10.11"
  }
 },
 "nbformat": 4,
 "nbformat_minor": 2
}
