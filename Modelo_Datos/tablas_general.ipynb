{
 "cells": [
  {
   "cell_type": "code",
   "execution_count": 58,
   "metadata": {},
   "outputs": [],
   "source": [
    "import sqlite3\n",
    "import pandas as pd"
   ]
  },
  {
   "cell_type": "code",
   "execution_count": 59,
   "metadata": {},
   "outputs": [],
   "source": [
    "conn = sqlite3.connect('mi_base_de_datos.sqlite')\n",
    "\n",
    "cursor = conn.cursor()"
   ]
  },
  {
   "cell_type": "code",
   "execution_count": 60,
   "metadata": {},
   "outputs": [
    {
     "data": {
      "text/plain": [
       "<sqlite3.Cursor at 0x22870ca35c0>"
      ]
     },
     "execution_count": 60,
     "metadata": {},
     "output_type": "execute_result"
    }
   ],
   "source": [
    "cursor.execute('''DROP TABLE IF EXISTS Parque_atracciones''')\n",
    "\n",
    "cursor.execute('''CREATE TABLE IF NOT EXISTS Parque_atracciones (\n",
    "                    Nombre TEXT,\n",
    "                    Direccion TEXT,\n",
    "                    Ciudad TEXT,\n",
    "                    Provincia TEXT,\n",
    "                    Aforo INTEGER,\n",
    "                    Codigo TEXT PRIMARY KEY\n",
    "                )''')"
   ]
  },
  {
   "cell_type": "code",
   "execution_count": 61,
   "metadata": {},
   "outputs": [
    {
     "data": {
      "text/plain": [
       "<sqlite3.Cursor at 0x22870ca35c0>"
      ]
     },
     "execution_count": 61,
     "metadata": {},
     "output_type": "execute_result"
    }
   ],
   "source": [
    "\n",
    "# Crear la tabla Atracciones\n",
    "# Eliminar la tabla existente si existe\n",
    "cursor.execute('''DROP TABLE IF EXISTS Atracciones''')\n",
    "\n",
    "cursor.execute('''CREATE TABLE IF NOT EXISTS Atracciones (\n",
    "                    Nombre TEXT,\n",
    "                    Tipo TEXT,\n",
    "                    Categoria_edad INTEGER,\n",
    "                    Altura_Minima FLOAT,\n",
    "                    Descripcion TEXT,  \n",
    "                    codigo_atraccion TEXT,\n",
    "                    codigo_parque TEXT,\n",
    "                    codigo_zona TEXT )               \n",
    "                ''')\n",
    "\n",
    "cursor.execute('''DROP TABLE IF EXISTS Zonas''')\n",
    "\n",
    "\n",
    "cursor.execute('''CREATE TABLE IF NOT EXISTS Zonas (\n",
    "                    Codigo_Zona TEXT PRIMARY KEY,\n",
    "                    Ambientacion TEXT,\n",
    "                    Espectaculos TEXT,\n",
    "                    Descripcion,\n",
    "                    Horario TEXT\n",
    "                )''')\n",
    "\n",
    "# Codigo_Zona\tAmbientacion\tPlatos_Tipicos\tEspectaculos\tHorario\t Afluencia_Media\n",
    "\n",
    "\n",
    "cursor.execute('''DROP TABLE IF EXISTS Alojamiento''')\n",
    "\n",
    "cursor.execute('''CREATE TABLE IF NOT EXISTS Alojamiento (\n",
    "                    Nombre TEXT,\n",
    "                    Precio REAL,\n",
    "                    Categoria TEXT,\n",
    "                    Servicios TEXT,\n",
    "                    Ambientacion TEXT,\n",
    "                    codigo_parque TEXT\n",
    "                )''')\n",
    "\n",
    "# Guardar los cambios y cerrar la conexión\n",
    "#conn.commit()\n",
    "#conn.close()\n",
    "#cursor.close()\n"
   ]
  },
  {
   "cell_type": "code",
   "execution_count": 62,
   "metadata": {},
   "outputs": [],
   "source": [
    "conn.commit()\n",
    "conn.close()"
   ]
  },
  {
   "cell_type": "code",
   "execution_count": null,
   "metadata": {},
   "outputs": [],
   "source": []
  }
 ],
 "metadata": {
  "kernelspec": {
   "display_name": "base",
   "language": "python",
   "name": "python3"
  },
  "language_info": {
   "codemirror_mode": {
    "name": "ipython",
    "version": 3
   },
   "file_extension": ".py",
   "mimetype": "text/x-python",
   "name": "python",
   "nbconvert_exporter": "python",
   "pygments_lexer": "ipython3",
   "version": "3.10.11"
  }
 },
 "nbformat": 4,
 "nbformat_minor": 2
}
